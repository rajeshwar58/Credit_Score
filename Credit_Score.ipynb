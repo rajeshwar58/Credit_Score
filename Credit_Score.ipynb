{
 "cells": [
  {
   "cell_type": "markdown",
   "id": "d86811f4",
   "metadata": {},
   "source": [
    "# Table of Contents\n",
    "1. Problem Statement\n",
    "2. Project Objective\n",
    "3. Data Description\n",
    "4. Data Pre-processing\n",
    "5. Model building\n",
    "6. Results"
   ]
  },
  {
   "cell_type": "markdown",
   "id": "e61b5d21",
   "metadata": {},
   "source": [
    "# 1. Problem Statement\n",
    "   A global finance company company has collected basic bank details and gathered a lot of credit-related information. The management wants to build an intelligent system to segregate the people into credit score brackets to reduce the manual efforts."
   ]
  },
  {
   "cell_type": "markdown",
   "id": "8bc73509",
   "metadata": {},
   "source": [
    "# 2. Project Objective\n",
    "   Given a person’s credit-related information, build a machine learning model that can classify the credit score."
   ]
  },
  {
   "cell_type": "markdown",
   "id": "b35d62fc",
   "metadata": {},
   "source": [
    "# 3. Data Description\n",
    "\n",
    "The data set contains data related to below mentioned features of an customer.\n",
    "\n",
    "Month, Age, Occupation, Annual_Income, Monthly_Inhand_Salary, Num_Bank_Accounts, Num_Credit_Card, Interest_Rate, Num_of_Loan, Delay_from_due_date, Num_of_Delayed_Payment, Changed_Credit_Limit, Num_Credit_Inquiries, Credit_Mix, Outstanding_Debt, Credit_Utilization_Ratio, Payment_of_Min_Amount, Total_EMI_per_month, Amount_invested_monthly, Payment_Behaviour, Monthly_Balance, Credit_Score.\n",
    "\n",
    "The Feature 'Credit_Score' is the response variable and it takes values as Poor, Standard and Good."
   ]
  },
  {
   "cell_type": "code",
   "execution_count": 1,
   "id": "669f07eb",
   "metadata": {},
   "outputs": [],
   "source": [
    "import pandas as pd\n",
    "import numpy as np\n",
    "import matplotlib.pyplot as plt\n",
    "import seaborn as sns\n",
    "import warnings\n",
    "warnings.filterwarnings(\"ignore\")\n",
    "%matplotlib inline"
   ]
  },
  {
   "cell_type": "markdown",
   "id": "6301beb4",
   "metadata": {},
   "source": [
    "# Importing dataset"
   ]
  },
  {
   "cell_type": "code",
   "execution_count": 2,
   "id": "318e3c37",
   "metadata": {},
   "outputs": [],
   "source": [
    "df=pd.read_csv('credit_score.csv')"
   ]
  },
  {
   "cell_type": "code",
   "execution_count": 3,
   "id": "e5657a05",
   "metadata": {},
   "outputs": [
    {
     "name": "stdout",
     "output_type": "stream",
     "text": [
      "<class 'pandas.core.frame.DataFrame'>\n",
      "RangeIndex: 100000 entries, 0 to 99999\n",
      "Data columns (total 28 columns):\n",
      " #   Column                    Non-Null Count   Dtype  \n",
      "---  ------                    --------------   -----  \n",
      " 0   ID                        100000 non-null  object \n",
      " 1   Customer_ID               100000 non-null  object \n",
      " 2   Month                     100000 non-null  object \n",
      " 3   Name                      90015 non-null   object \n",
      " 4   Age                       100000 non-null  object \n",
      " 5   SSN                       100000 non-null  object \n",
      " 6   Occupation                100000 non-null  object \n",
      " 7   Annual_Income             100000 non-null  object \n",
      " 8   Monthly_Inhand_Salary     84998 non-null   float64\n",
      " 9   Num_Bank_Accounts         100000 non-null  int64  \n",
      " 10  Num_Credit_Card           100000 non-null  int64  \n",
      " 11  Interest_Rate             100000 non-null  int64  \n",
      " 12  Num_of_Loan               100000 non-null  object \n",
      " 13  Type_of_Loan              88592 non-null   object \n",
      " 14  Delay_from_due_date       100000 non-null  int64  \n",
      " 15  Num_of_Delayed_Payment    92998 non-null   object \n",
      " 16  Changed_Credit_Limit      100000 non-null  object \n",
      " 17  Num_Credit_Inquiries      98035 non-null   float64\n",
      " 18  Credit_Mix                100000 non-null  object \n",
      " 19  Outstanding_Debt          100000 non-null  object \n",
      " 20  Credit_Utilization_Ratio  100000 non-null  float64\n",
      " 21  Credit_History_Age        90970 non-null   object \n",
      " 22  Payment_of_Min_Amount     100000 non-null  object \n",
      " 23  Total_EMI_per_month       100000 non-null  float64\n",
      " 24  Amount_invested_monthly   95521 non-null   object \n",
      " 25  Payment_Behaviour         100000 non-null  object \n",
      " 26  Monthly_Balance           98800 non-null   object \n",
      " 27  Credit_Score              100000 non-null  object \n",
      "dtypes: float64(4), int64(4), object(20)\n",
      "memory usage: 21.4+ MB\n"
     ]
    }
   ],
   "source": [
    "df.info()"
   ]
  },
  {
   "cell_type": "code",
   "execution_count": 4,
   "id": "db7a16c6",
   "metadata": {},
   "outputs": [
    {
     "data": {
      "text/html": [
       "<div>\n",
       "<style scoped>\n",
       "    .dataframe tbody tr th:only-of-type {\n",
       "        vertical-align: middle;\n",
       "    }\n",
       "\n",
       "    .dataframe tbody tr th {\n",
       "        vertical-align: top;\n",
       "    }\n",
       "\n",
       "    .dataframe thead th {\n",
       "        text-align: right;\n",
       "    }\n",
       "</style>\n",
       "<table border=\"1\" class=\"dataframe\">\n",
       "  <thead>\n",
       "    <tr style=\"text-align: right;\">\n",
       "      <th></th>\n",
       "      <th>ID</th>\n",
       "      <th>Customer_ID</th>\n",
       "      <th>Month</th>\n",
       "      <th>Name</th>\n",
       "      <th>Age</th>\n",
       "      <th>SSN</th>\n",
       "      <th>Occupation</th>\n",
       "      <th>Annual_Income</th>\n",
       "      <th>Monthly_Inhand_Salary</th>\n",
       "      <th>Num_Bank_Accounts</th>\n",
       "      <th>...</th>\n",
       "      <th>Credit_Mix</th>\n",
       "      <th>Outstanding_Debt</th>\n",
       "      <th>Credit_Utilization_Ratio</th>\n",
       "      <th>Credit_History_Age</th>\n",
       "      <th>Payment_of_Min_Amount</th>\n",
       "      <th>Total_EMI_per_month</th>\n",
       "      <th>Amount_invested_monthly</th>\n",
       "      <th>Payment_Behaviour</th>\n",
       "      <th>Monthly_Balance</th>\n",
       "      <th>Credit_Score</th>\n",
       "    </tr>\n",
       "  </thead>\n",
       "  <tbody>\n",
       "    <tr>\n",
       "      <th>0</th>\n",
       "      <td>0x1602</td>\n",
       "      <td>CUS_0xd40</td>\n",
       "      <td>January</td>\n",
       "      <td>Aaron Maashoh</td>\n",
       "      <td>23</td>\n",
       "      <td>821-00-0265</td>\n",
       "      <td>Scientist</td>\n",
       "      <td>19114.12</td>\n",
       "      <td>1824.843333</td>\n",
       "      <td>3</td>\n",
       "      <td>...</td>\n",
       "      <td>_</td>\n",
       "      <td>809.98</td>\n",
       "      <td>26.822620</td>\n",
       "      <td>22 Years and 1 Months</td>\n",
       "      <td>No</td>\n",
       "      <td>49.574949</td>\n",
       "      <td>80.41529543900253</td>\n",
       "      <td>High_spent_Small_value_payments</td>\n",
       "      <td>312.49408867943663</td>\n",
       "      <td>Good</td>\n",
       "    </tr>\n",
       "    <tr>\n",
       "      <th>1</th>\n",
       "      <td>0x1603</td>\n",
       "      <td>CUS_0xd40</td>\n",
       "      <td>February</td>\n",
       "      <td>Aaron Maashoh</td>\n",
       "      <td>23</td>\n",
       "      <td>821-00-0265</td>\n",
       "      <td>Scientist</td>\n",
       "      <td>19114.12</td>\n",
       "      <td>NaN</td>\n",
       "      <td>3</td>\n",
       "      <td>...</td>\n",
       "      <td>Good</td>\n",
       "      <td>809.98</td>\n",
       "      <td>31.944960</td>\n",
       "      <td>NaN</td>\n",
       "      <td>No</td>\n",
       "      <td>49.574949</td>\n",
       "      <td>118.28022162236736</td>\n",
       "      <td>Low_spent_Large_value_payments</td>\n",
       "      <td>284.62916249607184</td>\n",
       "      <td>Good</td>\n",
       "    </tr>\n",
       "    <tr>\n",
       "      <th>2</th>\n",
       "      <td>0x1604</td>\n",
       "      <td>CUS_0xd40</td>\n",
       "      <td>March</td>\n",
       "      <td>Aaron Maashoh</td>\n",
       "      <td>-500</td>\n",
       "      <td>821-00-0265</td>\n",
       "      <td>Scientist</td>\n",
       "      <td>19114.12</td>\n",
       "      <td>NaN</td>\n",
       "      <td>3</td>\n",
       "      <td>...</td>\n",
       "      <td>Good</td>\n",
       "      <td>809.98</td>\n",
       "      <td>28.609352</td>\n",
       "      <td>22 Years and 3 Months</td>\n",
       "      <td>No</td>\n",
       "      <td>49.574949</td>\n",
       "      <td>81.699521264648</td>\n",
       "      <td>Low_spent_Medium_value_payments</td>\n",
       "      <td>331.2098628537912</td>\n",
       "      <td>Good</td>\n",
       "    </tr>\n",
       "    <tr>\n",
       "      <th>3</th>\n",
       "      <td>0x1605</td>\n",
       "      <td>CUS_0xd40</td>\n",
       "      <td>April</td>\n",
       "      <td>Aaron Maashoh</td>\n",
       "      <td>23</td>\n",
       "      <td>821-00-0265</td>\n",
       "      <td>Scientist</td>\n",
       "      <td>19114.12</td>\n",
       "      <td>NaN</td>\n",
       "      <td>3</td>\n",
       "      <td>...</td>\n",
       "      <td>Good</td>\n",
       "      <td>809.98</td>\n",
       "      <td>31.377862</td>\n",
       "      <td>22 Years and 4 Months</td>\n",
       "      <td>No</td>\n",
       "      <td>49.574949</td>\n",
       "      <td>199.4580743910713</td>\n",
       "      <td>Low_spent_Small_value_payments</td>\n",
       "      <td>223.45130972736786</td>\n",
       "      <td>Good</td>\n",
       "    </tr>\n",
       "    <tr>\n",
       "      <th>4</th>\n",
       "      <td>0x1606</td>\n",
       "      <td>CUS_0xd40</td>\n",
       "      <td>May</td>\n",
       "      <td>Aaron Maashoh</td>\n",
       "      <td>23</td>\n",
       "      <td>821-00-0265</td>\n",
       "      <td>Scientist</td>\n",
       "      <td>19114.12</td>\n",
       "      <td>1824.843333</td>\n",
       "      <td>3</td>\n",
       "      <td>...</td>\n",
       "      <td>Good</td>\n",
       "      <td>809.98</td>\n",
       "      <td>24.797347</td>\n",
       "      <td>22 Years and 5 Months</td>\n",
       "      <td>No</td>\n",
       "      <td>49.574949</td>\n",
       "      <td>41.420153086217326</td>\n",
       "      <td>High_spent_Medium_value_payments</td>\n",
       "      <td>341.48923103222177</td>\n",
       "      <td>Good</td>\n",
       "    </tr>\n",
       "  </tbody>\n",
       "</table>\n",
       "<p>5 rows × 28 columns</p>\n",
       "</div>"
      ],
      "text/plain": [
       "       ID Customer_ID     Month           Name   Age          SSN Occupation  \\\n",
       "0  0x1602   CUS_0xd40   January  Aaron Maashoh    23  821-00-0265  Scientist   \n",
       "1  0x1603   CUS_0xd40  February  Aaron Maashoh    23  821-00-0265  Scientist   \n",
       "2  0x1604   CUS_0xd40     March  Aaron Maashoh  -500  821-00-0265  Scientist   \n",
       "3  0x1605   CUS_0xd40     April  Aaron Maashoh    23  821-00-0265  Scientist   \n",
       "4  0x1606   CUS_0xd40       May  Aaron Maashoh    23  821-00-0265  Scientist   \n",
       "\n",
       "  Annual_Income  Monthly_Inhand_Salary  Num_Bank_Accounts  ...  Credit_Mix  \\\n",
       "0      19114.12            1824.843333                  3  ...           _   \n",
       "1      19114.12                    NaN                  3  ...        Good   \n",
       "2      19114.12                    NaN                  3  ...        Good   \n",
       "3      19114.12                    NaN                  3  ...        Good   \n",
       "4      19114.12            1824.843333                  3  ...        Good   \n",
       "\n",
       "   Outstanding_Debt Credit_Utilization_Ratio     Credit_History_Age  \\\n",
       "0            809.98                26.822620  22 Years and 1 Months   \n",
       "1            809.98                31.944960                    NaN   \n",
       "2            809.98                28.609352  22 Years and 3 Months   \n",
       "3            809.98                31.377862  22 Years and 4 Months   \n",
       "4            809.98                24.797347  22 Years and 5 Months   \n",
       "\n",
       "   Payment_of_Min_Amount Total_EMI_per_month Amount_invested_monthly  \\\n",
       "0                     No           49.574949       80.41529543900253   \n",
       "1                     No           49.574949      118.28022162236736   \n",
       "2                     No           49.574949         81.699521264648   \n",
       "3                     No           49.574949       199.4580743910713   \n",
       "4                     No           49.574949      41.420153086217326   \n",
       "\n",
       "                  Payment_Behaviour     Monthly_Balance Credit_Score  \n",
       "0   High_spent_Small_value_payments  312.49408867943663         Good  \n",
       "1    Low_spent_Large_value_payments  284.62916249607184         Good  \n",
       "2   Low_spent_Medium_value_payments   331.2098628537912         Good  \n",
       "3    Low_spent_Small_value_payments  223.45130972736786         Good  \n",
       "4  High_spent_Medium_value_payments  341.48923103222177         Good  \n",
       "\n",
       "[5 rows x 28 columns]"
      ]
     },
     "execution_count": 4,
     "metadata": {},
     "output_type": "execute_result"
    }
   ],
   "source": [
    "df.head()"
   ]
  },
  {
   "cell_type": "code",
   "execution_count": null,
   "id": "14986476",
   "metadata": {},
   "outputs": [],
   "source": []
  },
  {
   "cell_type": "markdown",
   "id": "f8ef9c68",
   "metadata": {},
   "source": [
    "# 4. Data Pre-processing"
   ]
  },
  {
   "cell_type": "markdown",
   "id": "c2cbdae5",
   "metadata": {},
   "source": [
    "Removing unnessecary column from dataframe"
   ]
  },
  {
   "cell_type": "code",
   "execution_count": 5,
   "id": "02db085a",
   "metadata": {},
   "outputs": [
    {
     "data": {
      "text/plain": [
       "(100000, 22)"
      ]
     },
     "execution_count": 5,
     "metadata": {},
     "output_type": "execute_result"
    }
   ],
   "source": [
    "df=df.drop(columns=['ID', 'Customer_ID', 'Name', 'SSN', 'Type_of_Loan', 'Credit_History_Age'])\n",
    "df.shape"
   ]
  },
  {
   "cell_type": "code",
   "execution_count": 6,
   "id": "954cf0ce",
   "metadata": {},
   "outputs": [
    {
     "data": {
      "text/plain": [
       "Index(['Month', 'Age', 'Occupation', 'Annual_Income', 'Monthly_Inhand_Salary',\n",
       "       'Num_Bank_Accounts', 'Num_Credit_Card', 'Interest_Rate', 'Num_of_Loan',\n",
       "       'Delay_from_due_date', 'Num_of_Delayed_Payment', 'Changed_Credit_Limit',\n",
       "       'Num_Credit_Inquiries', 'Credit_Mix', 'Outstanding_Debt',\n",
       "       'Credit_Utilization_Ratio', 'Payment_of_Min_Amount',\n",
       "       'Total_EMI_per_month', 'Amount_invested_monthly', 'Payment_Behaviour',\n",
       "       'Monthly_Balance', 'Credit_Score'],\n",
       "      dtype='object')"
      ]
     },
     "execution_count": 6,
     "metadata": {},
     "output_type": "execute_result"
    }
   ],
   "source": [
    "col=df.columns\n",
    "col"
   ]
  },
  {
   "cell_type": "code",
   "execution_count": 7,
   "id": "a933760b",
   "metadata": {},
   "outputs": [
    {
     "name": "stdout",
     "output_type": "stream",
     "text": [
      "Month\n",
      "object\n",
      "['January' 'February' 'March' 'April' 'May' 'June' 'July' 'August']\n",
      "\n",
      "\n",
      "Age\n",
      "object\n",
      "['23' '-500' '28_' ... '4808_' '2263' '1342']\n",
      "\n",
      "\n",
      "Occupation\n",
      "object\n",
      "['Scientist' '_______' 'Teacher' 'Engineer' 'Entrepreneur' 'Developer'\n",
      " 'Lawyer' 'Media_Manager' 'Doctor' 'Journalist' 'Manager' 'Accountant'\n",
      " 'Musician' 'Mechanic' 'Writer' 'Architect']\n",
      "\n",
      "\n",
      "Annual_Income\n",
      "object\n",
      "['19114.12' '34847.84' '34847.84_' ... '20002.88' '39628.99' '39628.99_']\n",
      "\n",
      "\n",
      "Monthly_Inhand_Salary\n",
      "float64\n",
      "[1824.84333333           nan 3037.98666667 ... 3097.00833333 1929.90666667\n",
      " 3359.41583333]\n",
      "\n",
      "\n",
      "Num_Bank_Accounts\n",
      "int64\n",
      "[   3    2    1    7    4    0    8    5    6    9   10 1414 1231   67\n",
      "  572 1488   91  528 1647 1696 1338  649  889 1668  685  857  975 1496\n",
      " 1534 1620   37 1388 1429 1332 1588  120 1777 1096  803  494  744 1139\n",
      "  831 1613  741  121  665 1748 1644  823 1356 1651   87  711  450  210\n",
      " 1671 1722  648  672 1662 1495  510  666  429 1131 1434  980 1026  526\n",
      "  718 1300 1312 1315  501 1566  480 1042  322  628 1016  333 1265  791\n",
      "  427  563  905 1190 1036 1611   38  619  555 1769  280  752 1201  812\n",
      " 1487  222  212 1019 1222  610 1714 1308  525 1158 1115 1616  754 1601\n",
      "  797 1577  521  703  933  959  809 1089 1656 1113 1715  964 1533 1789\n",
      "  871  434 1295  565 1724  603  677  541  698 1101  464 1539 1462 1011\n",
      " 1257 1727   45  244 1266  897  535  484  331  675  826  946 1675  105\n",
      " 1327  845  549  473  710  527  908   68 1628  371  445 1168  868  687\n",
      "  455 1003   26 1526  618  598  351 1342 1783  683 1557 1335  416 1747\n",
      "  137 1475  373  338  942  170  973 1605 1478  386 1448 1033 1225  596\n",
      " 1731 1214 1481 1105  580  347  108  148 1001 1467 1114 1000  632  246\n",
      " 1032 1394  689  482 1303  720  574  588 1358  650  708  179  844 1140\n",
      "  335   60  732 1494 1436  820   28 1576  818  794  731  534  556  691\n",
      " 1197 1155 1255 1763  769 1124  819  318 1418  882   61  264  194 1798\n",
      "  611  840  505 1110  719 1065  195  584  550 1014 1022  903  976   31\n",
      "  417 1423 1148  616  786 1424   55 1061 1293  342   43 1540  488 1122\n",
      " 1274 1075  722 1268   41  814 1564 1390 1141  497  224 1135  441  374\n",
      "   74  314 1408  475 1015  681 1236   59 1425 1637 1240  299 1657 1123\n",
      " 1091 1264 1561 1632 1562  305 1318 1217 1699 1070  864 1391  112  860\n",
      "  595  229 1624 1051  821 1794 1565  397 1368 1353  508 1725 1413 1239\n",
      "  847 1317  570   -1  302  456  198  122  832  167 1547 1666 1241  275\n",
      "  566 1779  201  334 1169  834 1174 1040  530 1676 1468 1093  706  489\n",
      " 1592  688  830 1784 1543 1600 1178  228  483 1501  950  548  870 1211\n",
      "  604  804  129  540 1702 1636 1680 1443 1252  499  180  702  885 1652\n",
      "  795  938  833 1654 1793  303 1621 1516 1138   32  160 1491   83  423\n",
      "  928  339  931  243 1756  583 1695  274  955  430 1247  490  726  987\n",
      "   42 1626 1470 1739  887  211  385 1221  753  324  406 1677 1567  785\n",
      "  182 1079  184 1771 1048 1069  561  589 1634   70 1371  647 1153  239\n",
      "  801 1279 1287  425 1589  929 1511 1765 1047 1005 1337  981 1766  805\n",
      " 1574 1638  186   99  288 1650  974  996 1595 1594  865  203 1440  448\n",
      "  285   94  875  916 1733  240  330   79   82  135 1043  142 1235 1569\n",
      " 1741 1461  560 1551  409  418 1017  892  354  124  935  313 1363  232\n",
      " 1200 1184 1432 1479 1407 1080 1719 1024  970  761  158  312 1060  684\n",
      "  696 1520 1352 1502  936  485  350 1560 1166 1013   34 1691  715 1570\n",
      " 1751 1503 1194 1558  411  298  260  308  796 1442  912 1256  746  435\n",
      "  620 1774 1181 1323  837  307 1430   53 1447  259  921  328 1034  353\n",
      "  822  654  829  609  166  136  172 1306 1028  808  270 1072  514  156\n",
      " 1331 1630  462 1310 1210  265   50 1355  394 1393  226  991  368 1018\n",
      " 1037  627 1744  523  894  944 1730 1076 1094 1617  449  678 1164   30\n",
      "  817 1568  607  709 1230  606 1480   29 1522 1670   49  626 1641 1712\n",
      " 1370 1782  119 1137 1277   35  947  851 1041 1583 1536  575  196  143\n",
      "   33  383   57  621  230  162  352 1504 1250   39  511 1364  918 1665\n",
      "  734 1320  316  771  705 1435  304  116 1553  424  493 1530 1195 1604\n",
      "  624 1599  782 1606 1622 1285  657 1275 1291 1402  420  932  468  442\n",
      " 1145   93 1218  283  292  927 1711 1422  364 1398  594  789 1350  676\n",
      "  216 1012 1426  717 1095 1786  850  777  375  356  701 1325  290 1775\n",
      "  467 1365 1549  848 1453   84 1458  888  770 1591  582   40 1261 1764\n",
      " 1067  145  471  476 1128  967  622  641  539  858  295 1395 1517 1297\n",
      " 1126  926  157 1377  993  125  340  271 1669  272  979  707  564  997\n",
      "  447 1578 1465  415  714 1276   18 1316  587  245  446  978 1002 1631\n",
      "  341 1307  524 1267  103  242 1378 1328 1294 1309  724  197  999  547\n",
      " 1100 1456   77 1506 1472  460   11 1420  218 1253  392  670 1321  100\n",
      " 1205  443   92  811  774  159 1770  972 1157 1102  217  358 1473  440\n",
      "  140 1361  481  512 1117  300 1263 1581  901 1298  310  637  758 1734\n",
      " 1288  326 1678 1444 1344 1379  828  982  104  317 1529 1627  115  645\n",
      " 1404  940 1305 1049 1645 1466  175 1165 1419 1031  581 1580  854  725\n",
      " 1655 1134  569 1387 1381 1760  360 1735 1146 1411  969 1281  591  327\n",
      "  466  667  147  109  784 1396 1349  839 1284  802   97  281 1382 1039\n",
      " 1483  376 1249 1207 1213 1219 1345 1523  949 1063  983  886 1151  992\n",
      " 1107 1314  151   69 1489  695  738  444 1525  825  506  518 1077 1354\n",
      "  713  690  861 1389  968  421  907  205  856   72  651  161  867  971\n",
      " 1078   64 1701  546 1216   27 1709  193 1528  957  577  346 1416  396\n",
      " 1182  652 1083 1778  680 1754 1544 1703  636  472  453  463   75  756\n",
      "  296  891  813  474  697]\n",
      "\n",
      "\n",
      "Num_Credit_Card\n",
      "int64\n",
      "[   4 1385    5 ...  955 1430  679]\n",
      "\n",
      "\n",
      "Interest_Rate\n",
      "int64\n",
      "[   3    6    8 ... 1347  387 5729]\n",
      "\n",
      "\n",
      "Num_of_Loan\n",
      "object\n",
      "['4' '1' '3' '967' '-100' '0' '0_' '2' '3_' '2_' '7' '5' '5_' '6' '8' '8_'\n",
      " '9' '9_' '4_' '7_' '1_' '1464' '6_' '622' '352' '472' '1017' '945' '146'\n",
      " '563' '341' '444' '720' '1485' '49' '737' '1106' '466' '728' '313' '843'\n",
      " '597_' '617' '119' '663' '640' '92_' '1019' '501' '1302' '39' '716' '848'\n",
      " '931' '1214' '186' '424' '1001' '1110' '1152' '457' '1433' '1187' '52'\n",
      " '1480' '1047' '1035' '1347_' '33' '193' '699' '329' '1451' '484' '132'\n",
      " '649' '995' '545' '684' '1135' '1094' '1204' '654' '58' '348' '614'\n",
      " '1363' '323' '1406' '1348' '430' '153' '1461' '905' '1312' '1424' '1154'\n",
      " '95' '1353' '1228' '819' '1006' '795' '359' '1209' '590' '696' '1185_'\n",
      " '1465' '911' '1181' '70' '816' '1369' '143' '1416' '455' '55' '1096'\n",
      " '1474' '420' '1131' '904' '89' '1259' '527' '1241' '449' '983' '418'\n",
      " '319' '23' '238' '638' '138' '235_' '280' '1070' '1484' '274' '494'\n",
      " '1459_' '404' '1354' '1495' '1391' '601' '1313' '1319' '898' '231' '752'\n",
      " '174' '961' '1046' '834' '284' '438' '288' '1463' '1151' '719' '198'\n",
      " '1015' '855' '841' '392' '1444' '103' '1320_' '745' '172' '252' '630_'\n",
      " '241' '31' '405' '1217' '1030' '1257' '137' '157' '164' '1088' '1236'\n",
      " '777' '1048' '613' '330' '1439' '321' '661' '952' '939' '562' '1202'\n",
      " '302' '943' '394' '955' '1318' '936' '781' '100' '1329' '1365' '860'\n",
      " '217' '191' '32' '282' '351' '1387' '757' '416' '833' '359_' '292'\n",
      " '1225_' '1227' '639' '859' '243' '267' '510' '332' '996' '597' '311'\n",
      " '492' '820' '336' '123' '540' '131_' '1311_' '1441' '895' '891' '50'\n",
      " '940' '935' '596' '29' '1182' '1129_' '1014' '251' '365' '291' '1447'\n",
      " '742' '1085' '148' '462' '832' '881' '1225' '1412' '785_' '1127' '910'\n",
      " '538' '999' '733' '101' '237' '87' '659' '633' '387' '447' '629' '831'\n",
      " '1384' '773' '621' '1419' '289' '143_' '285' '1393' '1131_' '27_' '1359'\n",
      " '1482' '1189' '1294' '201' '579' '814' '141' '1320' '581' '1171_' '295'\n",
      " '290' '433' '679' '1040' '1054' '1430' '1023' '1077' '1457' '1150' '701'\n",
      " '1382' '889' '437' '372' '1222' '126' '1159' '868' '19' '1297' '227_'\n",
      " '190' '809' '1216' '1074' '571' '520' '1274' '1340' '991' '316' '697'\n",
      " '926' '873' '1002' '378_' '65' '875' '867' '548' '652' '1372' '606'\n",
      " '1036' '1300' '17' '1178' '802' '1219_' '1271' '1137' '1496' '439' '196'\n",
      " '636' '192' '228' '1053' '229' '753' '1296' '1371' '254' '863' '464'\n",
      " '515' '838' '1160' '1289' '1298' '799' '182' '574' '527_' '242' '415'\n",
      " '869' '958' '54' '1265' '656' '275' '778' '208' '147' '350' '507' '463'\n",
      " '497' '1129' '927' '653' '662' '529' '635' '1027_' '897' '1039' '227'\n",
      " '1345' '924' '696_' '1279' '546' '1112' '1210' '526' '300' '1103' '504'\n",
      " '136' '1400' '78' '686' '1091' '344' '215' '84' '628' '1470' '968' '1478'\n",
      " '83' '1196' '1307' '1132_' '1008' '917' '657' '56' '18' '41' '801' '978'\n",
      " '216' '349' '966']\n",
      "\n",
      "\n",
      "Delay_from_due_date\n",
      "int64\n",
      "[ 3 -1  5  6  8  7 13 10  0  4  9  1 12 11 30 31 34 27 14  2 -2 16 17 15\n",
      " 23 22 21 18 19 52 51 48 53 26 43 28 25 20 47 46 49 24 61 29 50 58 45 59\n",
      " 55 56 57 54 62 65 64 67 36 41 33 32 39 44 42 60 35 38 -3 63 40 37 -5 -4\n",
      " 66]\n",
      "\n",
      "\n",
      "Num_of_Delayed_Payment\n",
      "object\n",
      "['7' nan '4' '8_' '6' '1' '-1' '3_' '0' '8' '5' '3' '9' '12' '15' '17'\n",
      " '10' '2' '2_' '11' '14' '20' '22' '13' '13_' '14_' '16' '12_' '18' '19'\n",
      " '23' '24' '21' '3318' '3083' '22_' '1338' '4_' '26' '11_' '3104' '21_'\n",
      " '25' '10_' '183_' '9_' '1106' '834' '19_' '24_' '17_' '23_' '2672' '20_'\n",
      " '2008' '-3' '538' '6_' '1_' '16_' '27' '-2' '3478' '2420' '15_' '707'\n",
      " '708' '26_' '18_' '3815' '28' '5_' '1867' '2250' '1463' '25_' '7_' '4126'\n",
      " '2882' '1941' '2655' '2628' '132' '3069' '306' '0_' '3539' '3684' '1823'\n",
      " '4128' '1946' '827' '2297' '2566' '904' '182' '929' '3568' '2503' '1552'\n",
      " '2812' '1697' '3764' '851' '3905' '923' '88' '1668' '3253' '808' '2689'\n",
      " '3858' '642' '3457' '1402' '1732' '3154' '847' '3037' '2204' '3103'\n",
      " '1063' '2056' '1282' '1841' '2569_' '211' '793' '3484' '411' '3491'\n",
      " '2072' '3050' '1049' '2162' '3402' '2753' '27_' '1718' '1014' '3260'\n",
      " '3855' '84' '2311' '3251' '1832' '4069' '3010' '733' '4241' '166' '2461'\n",
      " '1749' '3200' '663_' '2185' '4161' '3009' '359' '2015' '1523' '594'\n",
      " '1079' '1199' '186' '1015' '1989' '281' '559' '2165' '1509' '3545' '779'\n",
      " '192' '4311' '-2_' '2323' '1471' '1538' '3529' '439' '3456' '3040' '2697'\n",
      " '3179' '1332' '3175' '3112' '829' '4022' '3870' '4023' '531' '1511'\n",
      " '3092' '3191' '2400' '3621' '3536' '544' '1864' '28_' '142' '2300' '264'\n",
      " '72' '497' '398' '2222' '3960' '1473' '3043' '4216' '2903' '2658' '-1_'\n",
      " '4042' '1323_' '2184' '921' '1328' '3404' '2438' '809' '47' '1996' '4164'\n",
      " '1370' '1204' '2167' '4011' '2590' '2594' '2533' '1663' '1018' '2919'\n",
      " '3458' '3316' '2589' '2801' '3355' '2529' '2488' '4266' '1243' '739'\n",
      " '845' '4107' '1884' '337' '2660' '290' '674' '2450' '3738' '1792' '2823'\n",
      " '2570' '775' '960' '482' '1706' '2493' '3623' '3031' '2794_' '2219_'\n",
      " '758_' '1849' '3559' '4096' '3726' '1953' '2657' '4043' '2938' '4384'\n",
      " '1647' '2694' '3533' '519' '2677' '2413' '-3_' '4139' '2609' '4326'\n",
      " '4211' '823' '3011' '1608' '2860' '4219' '4047' '1531' '742' '52' '4024'\n",
      " '1673' '49' '2243' '1685' '1869' '2587' '3489' '749' '1164' '2616' '848_'\n",
      " '4134' '1530' '1502' '4075' '3845' '1060' '2573' '2128' '328' '640'\n",
      " '2585' '2230' '1795' '1180' '1534' '3739' '3313' '4191' '996' '372'\n",
      " '3340' '3177' '602' '787' '4135' '3878' '4059' '1218' '4051' '1766'\n",
      " '1359' '3107' '585' '1263' '2511' '709' '3632' '4077' '2943' '2793'\n",
      " '3245' '2317' '1640' '2237_' '3819' '252' '3978' '1498' '1833' '2737'\n",
      " '1192' '1481' '700' '271' '2286' '273' '1215' '3944' '2070' '1478' '3749'\n",
      " '871' '2508' '2959' '130' '294' '3097_' '3511' '415' '2196' '2138' '2149'\n",
      " '1874' '1553' '3847' '3222' '1222' '2907' '3051' '98' '1598' '416' '2314'\n",
      " '2955' '1691' '1450' '2021' '1636' '80' '3708' '195' '320' '2945' '1911'\n",
      " '3416' '3796' '4159' '2255' '938' '4397' '3776' '2148' '1994' '853'\n",
      " '1178' '1633' '196' '3864' '714' '1687' '1034' '468' '1337' '2044' '1541'\n",
      " '3661' '1211' '2645' '2007' '102' '1891' '3162' '3142' '2566_' '2766'\n",
      " '3881' '2728' '2671' '1952' '3580' '2705' '4251' '3840_' '972' '3119'\n",
      " '3502' '4185' '2954' '683' '1614' '1572' '4302' '3447' '1852' '2131'\n",
      " '1900' '1699' '133' '2018' '2127' '508' '210' '577' '1664' '2604' '1411'\n",
      " '2351' '867' '1371' '2352' '1191' '905' '4053' '3869' '933' '3660' '3300'\n",
      " '3629' '3208' '2142' '2521' '450' '583' '876' '121' '3919' '2560' '2578'\n",
      " '2060' '813' '1236' '1489' '4360' '1154' '2544' '4172' '2924' '426'\n",
      " '4270' '2768' '3909' '3951' '2712' '2498' '3171' '1750' '197' '2569'\n",
      " '265' '4293' '887' '2707' '2397' '4337' '4249' '2751' '2950' '1859' '107'\n",
      " '2348' '2506' '2810' '2873' '1301' '2262' '1890' '3078' '3865' '3268'\n",
      " '2777' '3105' '1278' '3793' '2276' '2879' '4298' '2141' '223' '2239'\n",
      " '846' '1862' '2756' '1181' '1184' '2617' '3972' '2334' '3900' '2759'\n",
      " '4169' '2280' '2492' '2729' '3750' '1825' '309' '2431' '3099' '2080'\n",
      " '2279' '2666' '3722' '1976' '529' '1985' '3060' '4278' '3212' '46' '3148'\n",
      " '3467' '4231' '3790' '473' '1536' '3955' '2324' '2381' '1177' '371'\n",
      " '2896' '3880' '2991' '4319' '1061' '662' '4144' '693' '2006' '3115'\n",
      " '2278_' '3751' '1861' '4262' '2913' '2615' '3492' '800' '3766' '384'\n",
      " '3407' '1087' '3329' '1086' '2216' '1087_' '2457' '3522' '3274' '3488'\n",
      " '2854' '238' '351' '3706' '4280' '4095' '2926' '1329' '3370' '283' '1392'\n",
      " '1743' '2429' '974' '3156' '1133' '4388' '3243' '4282' '2523' '4281'\n",
      " '3415' '2001' '441' '94' '3499' '969' '3368' '106' '1004' '2638' '3946'\n",
      " '2956' '4324' '85' '4113' '819' '615' '1172' '2553' '1765' '3495' '2820'\n",
      " '4239' '4340' '1295_' '2636' '4295' '1653' '1325' '1879' '1096' '1735'\n",
      " '3584' '1073' '1975' '3827' '2552' '3754' '2378' '532' '926' '2376'\n",
      " '3636' '3763' '778' '2621' '804' '754' '2418' '4019' '3926' '3861_'\n",
      " '3574' '175' '162' '2834' '3765' '2354' '523' '2274' '1606' '1443' '1354'\n",
      " '2142_' '1422' '2278' '1045' '4106' '3155' '666' '659' '3229' '1216'\n",
      " '2076' '1473_' '2384' '1954' '719' '2534' '4002' '541' '2875' '4344'\n",
      " '2081' '3894' '1256' '676' '4178' '399' '86' '1571' '4037' '1967' '4005'\n",
      " '3216' '1150' '2591' '1801' '3721' '1775' '2260' '3707' '4292' '1820'\n",
      " '145' '1480' '1850' '430' '217' '3920_' '1389' '1579' '3391' '2385'\n",
      " '3336' '3392' '3688' '221' '2047']\n",
      "\n",
      "\n",
      "Changed_Credit_Limit\n",
      "object\n",
      "['11.27' '_' '6.27' ... '17.509999999999998' '25.16' '21.17']\n",
      "\n",
      "\n",
      "Num_Credit_Inquiries\n",
      "float64\n",
      "[   4.    2.    3. ... 1361.  310.   74.]\n",
      "\n",
      "\n",
      "Credit_Mix\n",
      "object\n",
      "['_' 'Good' 'Standard' 'Bad']\n",
      "\n",
      "\n",
      "Outstanding_Debt\n",
      "object\n",
      "['809.98' '605.03' '1303.01' ... '3571.7_' '3571.7' '502.38']\n",
      "\n",
      "\n",
      "Credit_Utilization_Ratio\n",
      "float64\n",
      "[26.82261962 31.94496006 28.60935202 ... 41.25552226 33.63820798\n",
      " 34.19246265]\n",
      "\n",
      "\n",
      "Payment_of_Min_Amount\n",
      "object\n",
      "['No' 'NM' 'Yes']\n",
      "\n",
      "\n",
      "Total_EMI_per_month\n",
      "float64\n",
      "[4.95749492e+01 1.88162146e+01 2.46992319e+02 ... 1.21120000e+04\n",
      " 3.51040226e+01 5.86380000e+04]\n",
      "\n",
      "\n",
      "Amount_invested_monthly\n",
      "object\n",
      "['80.41529543900253' '118.28022162236736' '81.699521264648' ...\n",
      " '24.02847744864441' '251.67258219721603' '167.1638651610451']\n",
      "\n",
      "\n",
      "Payment_Behaviour\n",
      "object\n",
      "['High_spent_Small_value_payments' 'Low_spent_Large_value_payments'\n",
      " 'Low_spent_Medium_value_payments' 'Low_spent_Small_value_payments'\n",
      " 'High_spent_Medium_value_payments' '!@9#%8'\n",
      " 'High_spent_Large_value_payments']\n",
      "\n",
      "\n",
      "Monthly_Balance\n",
      "object\n"
     ]
    },
    {
     "name": "stdout",
     "output_type": "stream",
     "text": [
      "['312.49408867943663' '284.62916249607184' '331.2098628537912' ...\n",
      " 516.8090832742814 319.1649785257098 393.6736955618808]\n",
      "\n",
      "\n",
      "Credit_Score\n",
      "object\n",
      "['Good' 'Standard' 'Poor']\n",
      "\n",
      "\n"
     ]
    }
   ],
   "source": [
    "for i in col:\n",
    "    print(i)\n",
    "    print(df[i].dtypes)\n",
    "    print(df[i].unique())\n",
    "    print('\\n')"
   ]
  },
  {
   "cell_type": "markdown",
   "id": "4b88bd60",
   "metadata": {},
   "source": [
    "Replacing the special characters with empty string or with null values according to the data and converting it into int or float datatype."
   ]
  },
  {
   "cell_type": "code",
   "execution_count": 8,
   "id": "d65c88b6",
   "metadata": {},
   "outputs": [],
   "source": [
    "df['Age']=df['Age'].str.replace('_','')\n",
    "df['Age']=df['Age'].astype(int)\n",
    "\n",
    "df['Occupation']=df['Occupation'].replace('_______', np.nan)\n",
    "\n",
    "df['Annual_Income']=df['Annual_Income'].str.replace('_','')\n",
    "df['Annual_Income']=df['Annual_Income'].astype(float)\n",
    "\n",
    "df['Num_of_Loan']=df['Num_of_Loan'].str.replace('_','')\n",
    "df['Num_of_Loan']=df['Num_of_Loan'].astype(int)\n",
    "\n",
    "df['Num_of_Delayed_Payment']=df['Num_of_Delayed_Payment'].str.replace('_','')\n",
    "df['Num_of_Delayed_Payment']=df['Num_of_Delayed_Payment'].astype(float)\n",
    "\n",
    "df['Changed_Credit_Limit']=df['Changed_Credit_Limit'].replace('_',np.nan)\n",
    "df['Changed_Credit_Limit']=df['Changed_Credit_Limit'].astype(float)\n",
    "\n",
    "df['Outstanding_Debt']=df['Outstanding_Debt'].str.replace('_','')\n",
    "df['Outstanding_Debt']=df['Outstanding_Debt'].astype(float)\n",
    "\n",
    "df['Credit_Mix']=df['Credit_Mix'].replace('_',np.nan)\n",
    "df['Credit_Mix']=df['Credit_Mix'].replace(['Bad','Standard','Good'], [0,1,2])\n",
    "\n",
    "df['Payment_of_Min_Amount']=df['Payment_of_Min_Amount'].replace('NM','No')\n",
    "df['Payment_of_Min_Amount']=df['Payment_of_Min_Amount'].replace(['Yes','No'], [1,0])\n",
    "\n",
    "df['Amount_invested_monthly']=df['Amount_invested_monthly'].str.replace('_','')\n",
    "df['Amount_invested_monthly']=df['Amount_invested_monthly'].astype(float)\n",
    "\n",
    "df['Payment_Behaviour']=df['Payment_Behaviour'].replace('!@9#%8',np.nan)\n",
    "\n",
    "df['Monthly_Balance']=df['Monthly_Balance'].str.replace('_','')\n",
    "df['Monthly_Balance']=df['Monthly_Balance'].astype(float)\n",
    "\n",
    "df['Credit_Score']=df['Credit_Score'].replace(['Poor','Standard','Good'], [0,1,2])\n"
   ]
  },
  {
   "cell_type": "code",
   "execution_count": 9,
   "id": "5b6d23ee",
   "metadata": {
    "scrolled": true
   },
   "outputs": [
    {
     "name": "stdout",
     "output_type": "stream",
     "text": [
      "<class 'pandas.core.frame.DataFrame'>\n",
      "RangeIndex: 100000 entries, 0 to 99999\n",
      "Data columns (total 22 columns):\n",
      " #   Column                    Non-Null Count   Dtype  \n",
      "---  ------                    --------------   -----  \n",
      " 0   Month                     100000 non-null  object \n",
      " 1   Age                       100000 non-null  int32  \n",
      " 2   Occupation                92938 non-null   object \n",
      " 3   Annual_Income             100000 non-null  float64\n",
      " 4   Monthly_Inhand_Salary     84998 non-null   float64\n",
      " 5   Num_Bank_Accounts         100000 non-null  int64  \n",
      " 6   Num_Credit_Card           100000 non-null  int64  \n",
      " 7   Interest_Rate             100000 non-null  int64  \n",
      " 8   Num_of_Loan               100000 non-null  int32  \n",
      " 9   Delay_from_due_date       100000 non-null  int64  \n",
      " 10  Num_of_Delayed_Payment    92998 non-null   float64\n",
      " 11  Changed_Credit_Limit      97909 non-null   float64\n",
      " 12  Num_Credit_Inquiries      98035 non-null   float64\n",
      " 13  Credit_Mix                79805 non-null   float64\n",
      " 14  Outstanding_Debt          100000 non-null  float64\n",
      " 15  Credit_Utilization_Ratio  100000 non-null  float64\n",
      " 16  Payment_of_Min_Amount     100000 non-null  int64  \n",
      " 17  Total_EMI_per_month       100000 non-null  float64\n",
      " 18  Amount_invested_monthly   95521 non-null   float64\n",
      " 19  Payment_Behaviour         92400 non-null   object \n",
      " 20  Monthly_Balance           97132 non-null   float64\n",
      " 21  Credit_Score              100000 non-null  int64  \n",
      "dtypes: float64(11), int32(2), int64(6), object(3)\n",
      "memory usage: 16.0+ MB\n"
     ]
    }
   ],
   "source": [
    "df.info()"
   ]
  },
  {
   "cell_type": "code",
   "execution_count": 10,
   "id": "56b0f25c",
   "metadata": {},
   "outputs": [
    {
     "data": {
      "text/plain": [
       "Month                           0\n",
       "Age                             0\n",
       "Occupation                   7062\n",
       "Annual_Income                   0\n",
       "Monthly_Inhand_Salary       15002\n",
       "Num_Bank_Accounts               0\n",
       "Num_Credit_Card                 0\n",
       "Interest_Rate                   0\n",
       "Num_of_Loan                     0\n",
       "Delay_from_due_date             0\n",
       "Num_of_Delayed_Payment       7002\n",
       "Changed_Credit_Limit         2091\n",
       "Num_Credit_Inquiries         1965\n",
       "Credit_Mix                  20195\n",
       "Outstanding_Debt                0\n",
       "Credit_Utilization_Ratio        0\n",
       "Payment_of_Min_Amount           0\n",
       "Total_EMI_per_month             0\n",
       "Amount_invested_monthly      4479\n",
       "Payment_Behaviour            7600\n",
       "Monthly_Balance              2868\n",
       "Credit_Score                    0\n",
       "dtype: int64"
      ]
     },
     "execution_count": 10,
     "metadata": {},
     "output_type": "execute_result"
    }
   ],
   "source": [
    "df.isnull().sum()"
   ]
  },
  {
   "cell_type": "markdown",
   "id": "d110be2a",
   "metadata": {},
   "source": [
    "# Replacing null values using Forward and backward fill method is used"
   ]
  },
  {
   "cell_type": "code",
   "execution_count": 11,
   "id": "b05eb8db",
   "metadata": {},
   "outputs": [],
   "source": [
    "df=df.fillna(method='ffill')\n",
    "df=df.fillna(method='bfill')"
   ]
  },
  {
   "cell_type": "markdown",
   "id": "5c03b5ca",
   "metadata": {},
   "source": [
    "# Checking for outliers"
   ]
  },
  {
   "cell_type": "code",
   "execution_count": 12,
   "id": "534b1703",
   "metadata": {},
   "outputs": [
    {
     "data": {
      "image/png": "[encoded data removed]",
      "text/plain": [
       "<Figure size 432x288 with 1 Axes>"
      ]
     },
     "metadata": {
      "needs_background": "light"
     },
     "output_type": "display_data"
    },
    {
     "data": {
      "image/png": "[encoded data removed]",
      "text/plain": [
       "<Figure size 432x288 with 1 Axes>"
      ]
     },
     "metadata": {
      "needs_background": "light"
     },
     "output_type": "display_data"
    },
    {
     "data": {
      "image/png": "[encoded data removed]",
      "text/plain": [
       "<Figure size 432x288 with 1 Axes>"
      ]
     },
     "metadata": {
      "needs_background": "light"
     },
     "output_type": "display_data"
    },
    {
     "data": {
      "image/png": "[encoded data removed]",
      "text/plain": [
       "<Figure size 432x288 with 1 Axes>"
      ]
     },
     "metadata": {
      "needs_background": "light"
     },
     "output_type": "display_data"
    },
    {
     "data": {
      "image/png": "[encoded data removed]",
      "text/plain": [
       "<Figure size 432x288 with 1 Axes>"
      ]
     },
     "metadata": {
      "needs_background": "light"
     },
     "output_type": "display_data"
    },
    {
     "data": {
      "image/png": "[encoded data removed]",
      "text/plain": [
       "<Figure size 432x288 with 1 Axes>"
      ]
     },
     "metadata": {
      "needs_background": "light"
     },
     "output_type": "display_data"
    },
    {
     "data": {
      "image/png": "[encoded data removed]",
      "text/plain": [
       "<Figure size 432x288 with 1 Axes>"
      ]
     },
     "metadata": {
      "needs_background": "light"
     },
     "output_type": "display_data"
    },
    {
     "data": {
      "image/png": "[encoded data removed]",
      "text/plain": [
       "<Figure size 432x288 with 1 Axes>"
      ]
     },
     "metadata": {
      "needs_background": "light"
     },
     "output_type": "display_data"
    },
    {
     "data": {
      "image/png": "[encoded data removed]",
      "text/plain": [
       "<Figure size 432x288 with 1 Axes>"
      ]
     },
     "metadata": {
      "needs_background": "light"
     },
     "output_type": "display_data"
    },
    {
     "data": {
      "image/png": "[encoded data removed]",
      "text/plain": [
       "<Figure size 432x288 with 1 Axes>"
      ]
     },
     "metadata": {
      "needs_background": "light"
     },
     "output_type": "display_data"
    },
    {
     "data": {
      "image/png": "[encoded data removed]",
      "text/plain": [
       "<Figure size 432x288 with 1 Axes>"
      ]
     },
     "metadata": {
      "needs_background": "light"
     },
     "output_type": "display_data"
    },
    {
     "data": {
      "image/png": "[encoded data removed]",
      "text/plain": [
       "<Figure size 432x288 with 1 Axes>"
      ]
     },
     "metadata": {
      "needs_background": "light"
     },
     "output_type": "display_data"
    },
    {
     "data": {
      "image/png": "[encoded data removed]",
      "text/plain": [
       "<Figure size 432x288 with 1 Axes>"
      ]
     },
     "metadata": {
      "needs_background": "light"
     },
     "output_type": "display_data"
    },
    {
     "data": {
      "image/png": "[encoded data removed]",
      "text/plain": [
       "<Figure size 432x288 with 1 Axes>"
      ]
     },
     "metadata": {
      "needs_background": "light"
     },
     "output_type": "display_data"
    },
    {
     "data": {
      "image/png": "[encoded data removed]",
      "text/plain": [
       "<Figure size 432x288 with 1 Axes>"
      ]
     },
     "metadata": {
      "needs_background": "light"
     },
     "output_type": "display_data"
    },
    {
     "data": {
      "image/png": "[encoded data removed]",
      "text/plain": [
       "<Figure size 432x288 with 1 Axes>"
      ]
     },
     "metadata": {
      "needs_background": "light"
     },
     "output_type": "display_data"
    },
    {
     "data": {
      "image/png": "[encoded data removed]",
      "text/plain": [
       "<Figure size 432x288 with 1 Axes>"
      ]
     },
     "metadata": {
      "needs_background": "light"
     },
     "output_type": "display_data"
    },
    {
     "data": {
      "image/png": "[encoded data removed]",
      "text/plain": [
       "<Figure size 432x288 with 1 Axes>"
      ]
     },
     "metadata": {
      "needs_background": "light"
     },
     "output_type": "display_data"
    },
    {
     "data": {
      "image/png": "[encoded data removed]",
      "text/plain": [
       "<Figure size 432x288 with 1 Axes>"
      ]
     },
     "metadata": {
      "needs_background": "light"
     },
     "output_type": "display_data"
    }
   ],
   "source": [
    "for col_name in col:\n",
    "  if (df[col_name].dtypes!='object'):\n",
    "    sns.boxplot(data=df, x=col_name)\n",
    "    plt.xlabel([col_name],fontsize=12)\n",
    "    plt.ylabel(['count'])\n",
    "    warnings.simplefilter(action='ignore')\n",
    "    plt.show()"
   ]
  },
  {
   "cell_type": "code",
   "execution_count": 13,
   "id": "583db7f1",
   "metadata": {},
   "outputs": [],
   "source": [
    "# Age column has outliers thus removing them, while other columns kept as it is.\n",
    "Q1 = df.Age.quantile(0.25)\n",
    "Q3 = df.Age.quantile(0.75)\n",
    "IQR = Q3 - Q1\n",
    "df = df[(df.Age >= Q1 - 1.5*IQR) & (df.Age <= Q3 + 1.5*IQR)]"
   ]
  },
  {
   "cell_type": "markdown",
   "id": "2d4b8bef",
   "metadata": {},
   "source": [
    "Month_Balance column has negative values, thus removing those values"
   ]
  },
  {
   "cell_type": "code",
   "execution_count": 14,
   "id": "9945a5d1",
   "metadata": {},
   "outputs": [],
   "source": [
    "df=df[df['Monthly_Balance']>0]"
   ]
  },
  {
   "cell_type": "markdown",
   "id": "4be30b2a",
   "metadata": {},
   "source": [
    "# Distribution of Credit score rating "
   ]
  },
  {
   "cell_type": "code",
   "execution_count": 15,
   "id": "ddb29a82",
   "metadata": {},
   "outputs": [
    {
     "data": {
      "image/png": "[encoded data removed]",
      "text/plain": [
       "<Figure size 432x288 with 1 Axes>"
      ]
     },
     "metadata": {
      "needs_background": "light"
     },
     "output_type": "display_data"
    }
   ],
   "source": [
    "x=[0,1,2]\n",
    "sns.countplot(data=df ,x='Credit_Score')\n",
    "plt.xticks(x,['Poor','Standard','Good'])\n",
    "plt.xlabel('Credit Score',fontsize=15)\n",
    "plt.ylabel('Count',fontsize=15)\n",
    "plt.show()"
   ]
  },
  {
   "cell_type": "code",
   "execution_count": 16,
   "id": "615a07b8",
   "metadata": {},
   "outputs": [
    {
     "data": {
      "image/png": "[encoded data removed]",
      "text/plain": [
       "<Figure size 432x288 with 1 Axes>"
      ]
     },
     "metadata": {
      "needs_background": "light"
     },
     "output_type": "display_data"
    }
   ],
   "source": [
    "x=[0,1,2]\n",
    "sns.boxplot(data=df, x='Credit_Score', y='Monthly_Inhand_Salary')\n",
    "plt.xticks(x,['Poor','Standard','Good'])\n",
    "plt.show()"
   ]
  },
  {
   "cell_type": "markdown",
   "id": "d71af30a",
   "metadata": {},
   "source": [
    "It can be noted from above visual that person having more Monthly Inhand Salary have Good credit rating."
   ]
  },
  {
   "cell_type": "code",
   "execution_count": 17,
   "id": "f3860130",
   "metadata": {},
   "outputs": [
    {
     "data": {
      "image/png": "[encoded data removed]",
      "text/plain": [
       "<Figure size 432x288 with 1 Axes>"
      ]
     },
     "metadata": {
      "needs_background": "light"
     },
     "output_type": "display_data"
    }
   ],
   "source": [
    "x=[0,1,2]\n",
    "sns.boxplot(data=df, x='Credit_Score', y='Monthly_Balance')\n",
    "plt.xticks(x,['Poor','Standard','Good'])\n",
    "plt.show()"
   ]
  },
  {
   "cell_type": "markdown",
   "id": "6505728a",
   "metadata": {},
   "source": [
    "Person having Monthly Account Balance more is having Good credit score."
   ]
  },
  {
   "cell_type": "code",
   "execution_count": 18,
   "id": "6dd9e61c",
   "metadata": {},
   "outputs": [
    {
     "data": {
      "image/png": "[encoded data removed]",
      "text/plain": [
       "<Figure size 432x288 with 1 Axes>"
      ]
     },
     "metadata": {
      "needs_background": "light"
     },
     "output_type": "display_data"
    }
   ],
   "source": [
    "sns.boxplot(data=df, x='Credit_Utilization_Ratio')\n",
    "plt.show()"
   ]
  },
  {
   "cell_type": "code",
   "execution_count": 19,
   "id": "6f7719a6",
   "metadata": {},
   "outputs": [
    {
     "data": {
      "image/png": "[encoded data removed]",
      "text/plain": [
       "<Figure size 432x288 with 1 Axes>"
      ]
     },
     "metadata": {
      "needs_background": "light"
     },
     "output_type": "display_data"
    }
   ],
   "source": [
    "sns.boxplot(data=df, x='Age')\n",
    "plt.xlabel(['Age'],fontsize=12)\n",
    "plt.ylabel(['count'])\n",
    "plt.show()"
   ]
  },
  {
   "cell_type": "code",
   "execution_count": 20,
   "id": "42d0a46b",
   "metadata": {},
   "outputs": [
    {
     "data": {
      "image/png": "[encoded data removed]",
      "text/plain": [
       "<Figure size 432x288 with 1 Axes>"
      ]
     },
     "metadata": {
      "needs_background": "light"
     },
     "output_type": "display_data"
    }
   ],
   "source": [
    "sns.boxplot(data=df, x='Monthly_Balance')\n",
    "plt.xlabel(['Monthly_Balance'],fontsize=12)\n",
    "plt.ylabel(['count'])\n",
    "plt.show()"
   ]
  },
  {
   "cell_type": "markdown",
   "id": "9e27947b",
   "metadata": {},
   "source": [
    "# Selecting features using VIF (variance_inflation_factor)"
   ]
  },
  {
   "cell_type": "code",
   "execution_count": 21,
   "id": "5737b4b6",
   "metadata": {},
   "outputs": [
    {
     "name": "stdout",
     "output_type": "stream",
     "text": [
      "                     feature        VIF\n",
      "0                        Age   9.747323\n",
      "1              Annual_Income   1.016331\n",
      "2      Monthly_Inhand_Salary   5.114131\n",
      "3          Num_Bank_Accounts   1.021478\n",
      "4            Num_Credit_Card   1.029992\n",
      "5              Interest_Rate   1.024115\n",
      "6                Num_of_Loan   1.003069\n",
      "7        Delay_from_due_date   5.227533\n",
      "8     Num_of_Delayed_Payment   1.018965\n",
      "9       Changed_Credit_Limit   4.571005\n",
      "10      Num_Credit_Inquiries   1.020793\n",
      "11                Credit_Mix   7.382917\n",
      "12          Outstanding_Debt   4.931262\n",
      "13  Credit_Utilization_Ratio  23.298086\n",
      "14     Payment_of_Min_Amount   3.549069\n",
      "15       Total_EMI_per_month   1.028246\n",
      "16   Amount_invested_monthly   1.103303\n",
      "17           Monthly_Balance   8.883420\n"
     ]
    }
   ],
   "source": [
    "from statsmodels.stats.outliers_influence import variance_inflation_factor\n",
    "col_list=[]\n",
    "for i in df.columns:\n",
    "    if ((df[i].dtype!='object') & ( i != 'Credit_Score')):\n",
    "        col_list.append(i)\n",
    "\n",
    "X=df[col_list]\n",
    "vif_data=pd.DataFrame()\n",
    "vif_data['feature']=X.columns\n",
    "vif_data['VIF']=[variance_inflation_factor(X.values, n) for n in range(len(X.columns))]\n",
    "print(vif_data)"
   ]
  },
  {
   "cell_type": "markdown",
   "id": "b448c4ec",
   "metadata": {},
   "source": [
    "Droping columns having VIF more than 6."
   ]
  },
  {
   "cell_type": "code",
   "execution_count": 22,
   "id": "73592c8d",
   "metadata": {},
   "outputs": [],
   "source": [
    "df=df.drop(['Age', 'Credit_Utilization_Ratio', 'Monthly_Balance'], axis=1)"
   ]
  },
  {
   "cell_type": "code",
   "execution_count": 23,
   "id": "042b6c58",
   "metadata": {},
   "outputs": [
    {
     "name": "stdout",
     "output_type": "stream",
     "text": [
      "                    feature       VIF\n",
      "0             Annual_Income  1.015947\n",
      "1     Monthly_Inhand_Salary  2.905197\n",
      "2         Num_Bank_Accounts  1.020912\n",
      "3           Num_Credit_Card  1.029398\n",
      "4             Interest_Rate  1.023538\n",
      "5               Num_of_Loan  1.002937\n",
      "6       Delay_from_due_date  4.353150\n",
      "7    Num_of_Delayed_Payment  1.018534\n",
      "8      Changed_Credit_Limit  4.452433\n",
      "9      Num_Credit_Inquiries  1.020212\n",
      "10               Credit_Mix  2.727770\n",
      "11         Outstanding_Debt  4.500159\n",
      "12    Payment_of_Min_Amount  3.150958\n",
      "13      Total_EMI_per_month  1.027659\n",
      "14  Amount_invested_monthly  1.099410\n"
     ]
    }
   ],
   "source": [
    "from statsmodels.stats.outliers_influence import variance_inflation_factor\n",
    "col_list=[]\n",
    "for i in df.columns:\n",
    "    if ((df[i].dtype!='object') & ( i != 'Credit_Score')):\n",
    "        col_list.append(i)\n",
    "\n",
    "X=df[col_list]\n",
    "vif_data=pd.DataFrame()\n",
    "vif_data['feature']=X.columns\n",
    "vif_data['VIF']=[variance_inflation_factor(X.values, n) for n in range(len(X.columns))]\n",
    "print(vif_data)"
   ]
  },
  {
   "cell_type": "markdown",
   "id": "3facaa1f",
   "metadata": {},
   "source": [
    "# Performing Label encoding for categorical columns"
   ]
  },
  {
   "cell_type": "code",
   "execution_count": 24,
   "id": "ccf30c7b",
   "metadata": {},
   "outputs": [
    {
     "name": "stdout",
     "output_type": "stream",
     "text": [
      "<class 'pandas.core.frame.DataFrame'>\n",
      "Int64Index: 97210 entries, 0 to 99999\n",
      "Data columns (total 19 columns):\n",
      " #   Column                   Non-Null Count  Dtype  \n",
      "---  ------                   --------------  -----  \n",
      " 0   Month                    97210 non-null  int32  \n",
      " 1   Occupation               97210 non-null  int32  \n",
      " 2   Annual_Income            97210 non-null  float64\n",
      " 3   Monthly_Inhand_Salary    97210 non-null  float64\n",
      " 4   Num_Bank_Accounts        97210 non-null  int64  \n",
      " 5   Num_Credit_Card          97210 non-null  int64  \n",
      " 6   Interest_Rate            97210 non-null  int64  \n",
      " 7   Num_of_Loan              97210 non-null  int32  \n",
      " 8   Delay_from_due_date      97210 non-null  int64  \n",
      " 9   Num_of_Delayed_Payment   97210 non-null  float64\n",
      " 10  Changed_Credit_Limit     97210 non-null  float64\n",
      " 11  Num_Credit_Inquiries     97210 non-null  float64\n",
      " 12  Credit_Mix               97210 non-null  float64\n",
      " 13  Outstanding_Debt         97210 non-null  float64\n",
      " 14  Payment_of_Min_Amount    97210 non-null  int64  \n",
      " 15  Total_EMI_per_month      97210 non-null  float64\n",
      " 16  Amount_invested_monthly  97210 non-null  float64\n",
      " 17  Payment_Behaviour        97210 non-null  int32  \n",
      " 18  Credit_Score             97210 non-null  int64  \n",
      "dtypes: float64(9), int32(4), int64(6)\n",
      "memory usage: 15.4 MB\n"
     ]
    }
   ],
   "source": [
    "from sklearn.preprocessing import LabelEncoder\n",
    "le=LabelEncoder()\n",
    "for i in df.columns:\n",
    "    if (df[i].dtypes=='object'):\n",
    "        df[i]=le.fit_transform(df[i])\n",
    "df.info()"
   ]
  },
  {
   "cell_type": "code",
   "execution_count": 25,
   "id": "a3920965",
   "metadata": {},
   "outputs": [],
   "source": [
    "x=df.drop('Credit_Score', axis=1)\n",
    "y=df['Credit_Score']"
   ]
  },
  {
   "cell_type": "code",
   "execution_count": null,
   "id": "ea9f19ff",
   "metadata": {},
   "outputs": [],
   "source": []
  },
  {
   "cell_type": "code",
   "execution_count": 26,
   "id": "9f91ca00",
   "metadata": {},
   "outputs": [],
   "source": [
    "from sklearn.preprocessing import StandardScaler\n",
    "sc=StandardScaler()\n",
    "x=sc.fit_transform(x)"
   ]
  },
  {
   "cell_type": "code",
   "execution_count": 27,
   "id": "a707cd0f",
   "metadata": {},
   "outputs": [],
   "source": [
    "from sklearn.model_selection import train_test_split\n",
    "x_train,x_test,y_train,y_test=train_test_split(x,y,train_size=0.3,random_state=42)"
   ]
  },
  {
   "cell_type": "code",
   "execution_count": null,
   "id": "6a196c6d",
   "metadata": {},
   "outputs": [],
   "source": []
  },
  {
   "cell_type": "markdown",
   "id": "d7033009",
   "metadata": {},
   "source": [
    "# 5. Model building"
   ]
  },
  {
   "cell_type": "markdown",
   "id": "a90fd446",
   "metadata": {},
   "source": [
    "# Logistic Regression model"
   ]
  },
  {
   "cell_type": "code",
   "execution_count": 28,
   "id": "e71c0424",
   "metadata": {},
   "outputs": [],
   "source": [
    "from sklearn.linear_model import LogisticRegression\n",
    "lr=LogisticRegression(random_state=42)\n",
    "lr.fit(x_train, y_train)\n",
    "lr_pred=lr.predict(x_test)"
   ]
  },
  {
   "cell_type": "code",
   "execution_count": 29,
   "id": "1237cdfa",
   "metadata": {},
   "outputs": [],
   "source": [
    "from sklearn.metrics import accuracy_score, confusion_matrix\n",
    "from sklearn import metrics"
   ]
  },
  {
   "cell_type": "code",
   "execution_count": 30,
   "id": "2403d924",
   "metadata": {},
   "outputs": [
    {
     "data": {
      "text/plain": [
       "62.0"
      ]
     },
     "execution_count": 30,
     "metadata": {},
     "output_type": "execute_result"
    }
   ],
   "source": [
    "lr_acc=round((accuracy_score(y_test, lr_pred)),4)*100\n",
    "lr_acc"
   ]
  },
  {
   "cell_type": "code",
   "execution_count": null,
   "id": "2c4f5fd7",
   "metadata": {},
   "outputs": [],
   "source": []
  },
  {
   "cell_type": "markdown",
   "id": "42c8da20",
   "metadata": {},
   "source": [
    "# Decision Tree model"
   ]
  },
  {
   "cell_type": "code",
   "execution_count": 31,
   "id": "b24f945b",
   "metadata": {},
   "outputs": [],
   "source": [
    "from sklearn.tree import DecisionTreeClassifier\n",
    "dt=DecisionTreeClassifier(random_state=42)\n",
    "dt.fit(x_train, y_train)\n",
    "dt_pred=lr.predict(x_test)"
   ]
  },
  {
   "cell_type": "code",
   "execution_count": 32,
   "id": "c76240c8",
   "metadata": {},
   "outputs": [
    {
     "data": {
      "text/plain": [
       "62.0"
      ]
     },
     "execution_count": 32,
     "metadata": {},
     "output_type": "execute_result"
    }
   ],
   "source": [
    "dt_acc=round((accuracy_score(y_test, dt_pred)),4)*100\n",
    "dt_acc"
   ]
  },
  {
   "cell_type": "markdown",
   "id": "cec69133",
   "metadata": {},
   "source": [
    "# Hyperparameter Tuning using RandomSearchCV for Decision Tree"
   ]
  },
  {
   "cell_type": "code",
   "execution_count": 33,
   "id": "7c5c722a",
   "metadata": {},
   "outputs": [],
   "source": [
    "from sklearn.model_selection import GridSearchCV,RandomizedSearchCV "
   ]
  },
  {
   "cell_type": "code",
   "execution_count": 34,
   "id": "a092511e",
   "metadata": {},
   "outputs": [],
   "source": [
    "from scipy.stats import randint"
   ]
  },
  {
   "cell_type": "code",
   "execution_count": 35,
   "id": "0e3e3cb8",
   "metadata": {},
   "outputs": [],
   "source": [
    "param_dist = {\"max_depth\": [3,5,7,8,9,10,11,12,13,14,15],\n",
    "              \"max_features\": randint(1, 12),\n",
    "              \"min_samples_leaf\": randint(1, 12),\n",
    "              \"criterion\": [\"gini\", \"entropy\"]}"
   ]
  },
  {
   "cell_type": "code",
   "execution_count": 36,
   "id": "8c784e9d",
   "metadata": {},
   "outputs": [],
   "source": [
    "tree = DecisionTreeClassifier()"
   ]
  },
  {
   "cell_type": "code",
   "execution_count": 37,
   "id": "83549cd4",
   "metadata": {},
   "outputs": [],
   "source": [
    "tree_cv = RandomizedSearchCV(tree, param_dist, cv=5)"
   ]
  },
  {
   "cell_type": "code",
   "execution_count": 38,
   "id": "323d50ec",
   "metadata": {},
   "outputs": [
    {
     "data": {
      "text/html": [
       "<style>#sk-container-id-1 {color: black;background-color: white;}#sk-container-id-1 pre{padding: 0;}#sk-container-id-1 div.sk-toggleable {background-color: white;}#sk-container-id-1 label.sk-toggleable__label {cursor: pointer;display: block;width: 100%;margin-bottom: 0;padding: 0.3em;box-sizing: border-box;text-align: center;}#sk-container-id-1 label.sk-toggleable__label-arrow:before {content: \"▸\";float: left;margin-right: 0.25em;color: #696969;}#sk-container-id-1 label.sk-toggleable__label-arrow:hover:before {color: black;}#sk-container-id-1 div.sk-estimator:hover label.sk-toggleable__label-arrow:before {color: black;}#sk-container-id-1 div.sk-toggleable__content {max-height: 0;max-width: 0;overflow: hidden;text-align: left;background-color: #f0f8ff;}#sk-container-id-1 div.sk-toggleable__content pre {margin: 0.2em;color: black;border-radius: 0.25em;background-color: #f0f8ff;}#sk-container-id-1 input.sk-toggleable__control:checked~div.sk-toggleable__content {max-height: 200px;max-width: 100%;overflow: auto;}#sk-container-id-1 input.sk-toggleable__control:checked~label.sk-toggleable__label-arrow:before {content: \"▾\";}#sk-container-id-1 div.sk-estimator input.sk-toggleable__control:checked~label.sk-toggleable__label {background-color: #d4ebff;}#sk-container-id-1 div.sk-label input.sk-toggleable__control:checked~label.sk-toggleable__label {background-color: #d4ebff;}#sk-container-id-1 input.sk-hidden--visually {border: 0;clip: rect(1px 1px 1px 1px);clip: rect(1px, 1px, 1px, 1px);height: 1px;margin: -1px;overflow: hidden;padding: 0;position: absolute;width: 1px;}#sk-container-id-1 div.sk-estimator {font-family: monospace;background-color: #f0f8ff;border: 1px dotted black;border-radius: 0.25em;box-sizing: border-box;margin-bottom: 0.5em;}#sk-container-id-1 div.sk-estimator:hover {background-color: #d4ebff;}#sk-container-id-1 div.sk-parallel-item::after {content: \"\";width: 100%;border-bottom: 1px solid gray;flex-grow: 1;}#sk-container-id-1 div.sk-label:hover label.sk-toggleable__label {background-color: #d4ebff;}#sk-container-id-1 div.sk-serial::before {content: \"\";position: absolute;border-left: 1px solid gray;box-sizing: border-box;top: 0;bottom: 0;left: 50%;z-index: 0;}#sk-container-id-1 div.sk-serial {display: flex;flex-direction: column;align-items: center;background-color: white;padding-right: 0.2em;padding-left: 0.2em;position: relative;}#sk-container-id-1 div.sk-item {position: relative;z-index: 1;}#sk-container-id-1 div.sk-parallel {display: flex;align-items: stretch;justify-content: center;background-color: white;position: relative;}#sk-container-id-1 div.sk-item::before, #sk-container-id-1 div.sk-parallel-item::before {content: \"\";position: absolute;border-left: 1px solid gray;box-sizing: border-box;top: 0;bottom: 0;left: 50%;z-index: -1;}#sk-container-id-1 div.sk-parallel-item {display: flex;flex-direction: column;z-index: 1;position: relative;background-color: white;}#sk-container-id-1 div.sk-parallel-item:first-child::after {align-self: flex-end;width: 50%;}#sk-container-id-1 div.sk-parallel-item:last-child::after {align-self: flex-start;width: 50%;}#sk-container-id-1 div.sk-parallel-item:only-child::after {width: 0;}#sk-container-id-1 div.sk-dashed-wrapped {border: 1px dashed gray;margin: 0 0.4em 0.5em 0.4em;box-sizing: border-box;padding-bottom: 0.4em;background-color: white;}#sk-container-id-1 div.sk-label label {font-family: monospace;font-weight: bold;display: inline-block;line-height: 1.2em;}#sk-container-id-1 div.sk-label-container {text-align: center;}#sk-container-id-1 div.sk-container {/* jupyter's `normalize.less` sets `[hidden] { display: none; }` but bootstrap.min.css set `[hidden] { display: none !important; }` so we also need the `!important` here to be able to override the default hidden behavior on the sphinx rendered scikit-learn.org. See: https://github.com/scikit-learn/scikit-learn/issues/21755 */display: inline-block !important;position: relative;}#sk-container-id-1 div.sk-text-repr-fallback {display: none;}</style><div id=\"sk-container-id-1\" class=\"sk-top-container\"><div class=\"sk-text-repr-fallback\"><pre>RandomizedSearchCV(cv=5, estimator=DecisionTreeClassifier(),\n",
       "                   param_distributions={&#x27;criterion&#x27;: [&#x27;gini&#x27;, &#x27;entropy&#x27;],\n",
       "                                        &#x27;max_depth&#x27;: [3, 5, 7, 8, 9, 10, 11, 12,\n",
       "                                                      13, 14, 15],\n",
       "                                        &#x27;max_features&#x27;: &lt;scipy.stats._distn_infrastructure.rv_frozen object at 0x0000013D4D77EEB0&gt;,\n",
       "                                        &#x27;min_samples_leaf&#x27;: &lt;scipy.stats._distn_infrastructure.rv_frozen object at 0x0000013D4D7893A0&gt;})</pre><b>In a Jupyter environment, please rerun this cell to show the HTML representation or trust the notebook. <br />On GitHub, the HTML representation is unable to render, please try loading this page with nbviewer.org.</b></div><div class=\"sk-container\" hidden><div class=\"sk-item sk-dashed-wrapped\"><div class=\"sk-label-container\"><div class=\"sk-label sk-toggleable\"><input class=\"sk-toggleable__control sk-hidden--visually\" id=\"sk-estimator-id-1\" type=\"checkbox\" ><label for=\"sk-estimator-id-1\" class=\"sk-toggleable__label sk-toggleable__label-arrow\">RandomizedSearchCV</label><div class=\"sk-toggleable__content\"><pre>RandomizedSearchCV(cv=5, estimator=DecisionTreeClassifier(),\n",
       "                   param_distributions={&#x27;criterion&#x27;: [&#x27;gini&#x27;, &#x27;entropy&#x27;],\n",
       "                                        &#x27;max_depth&#x27;: [3, 5, 7, 8, 9, 10, 11, 12,\n",
       "                                                      13, 14, 15],\n",
       "                                        &#x27;max_features&#x27;: &lt;scipy.stats._distn_infrastructure.rv_frozen object at 0x0000013D4D77EEB0&gt;,\n",
       "                                        &#x27;min_samples_leaf&#x27;: &lt;scipy.stats._distn_infrastructure.rv_frozen object at 0x0000013D4D7893A0&gt;})</pre></div></div></div><div class=\"sk-parallel\"><div class=\"sk-parallel-item\"><div class=\"sk-item\"><div class=\"sk-label-container\"><div class=\"sk-label sk-toggleable\"><input class=\"sk-toggleable__control sk-hidden--visually\" id=\"sk-estimator-id-2\" type=\"checkbox\" ><label for=\"sk-estimator-id-2\" class=\"sk-toggleable__label sk-toggleable__label-arrow\">estimator: DecisionTreeClassifier</label><div class=\"sk-toggleable__content\"><pre>DecisionTreeClassifier()</pre></div></div></div><div class=\"sk-serial\"><div class=\"sk-item\"><div class=\"sk-estimator sk-toggleable\"><input class=\"sk-toggleable__control sk-hidden--visually\" id=\"sk-estimator-id-3\" type=\"checkbox\" ><label for=\"sk-estimator-id-3\" class=\"sk-toggleable__label sk-toggleable__label-arrow\">DecisionTreeClassifier</label><div class=\"sk-toggleable__content\"><pre>DecisionTreeClassifier()</pre></div></div></div></div></div></div></div></div></div></div>"
      ],
      "text/plain": [
       "RandomizedSearchCV(cv=5, estimator=DecisionTreeClassifier(),\n",
       "                   param_distributions={'criterion': ['gini', 'entropy'],\n",
       "                                        'max_depth': [3, 5, 7, 8, 9, 10, 11, 12,\n",
       "                                                      13, 14, 15],\n",
       "                                        'max_features': <scipy.stats._distn_infrastructure.rv_frozen object at 0x0000013D4D77EEB0>,\n",
       "                                        'min_samples_leaf': <scipy.stats._distn_infrastructure.rv_frozen object at 0x0000013D4D7893A0>})"
      ]
     },
     "execution_count": 38,
     "metadata": {},
     "output_type": "execute_result"
    }
   ],
   "source": [
    "tree_cv.fit(x_train, y_train)"
   ]
  },
  {
   "cell_type": "code",
   "execution_count": 39,
   "id": "336f75f1",
   "metadata": {},
   "outputs": [
    {
     "name": "stdout",
     "output_type": "stream",
     "text": [
      "{'criterion': 'gini', 'max_depth': 8, 'max_features': 7, 'min_samples_leaf': 1}\n"
     ]
    }
   ],
   "source": [
    "print(tree_cv.best_params_)"
   ]
  },
  {
   "cell_type": "markdown",
   "id": "d042dc37",
   "metadata": {},
   "source": [
    "Creating model using best fit parameters"
   ]
  },
  {
   "cell_type": "code",
   "execution_count": 40,
   "id": "413675c6",
   "metadata": {},
   "outputs": [],
   "source": [
    "best_tree=DecisionTreeClassifier(criterion= 'gini', max_depth= 9, max_features= 10, min_samples_leaf= 4)"
   ]
  },
  {
   "cell_type": "code",
   "execution_count": 41,
   "id": "f085cb49",
   "metadata": {},
   "outputs": [
    {
     "data": {
      "text/html": [
       "<style>#sk-container-id-2 {color: black;background-color: white;}#sk-container-id-2 pre{padding: 0;}#sk-container-id-2 div.sk-toggleable {background-color: white;}#sk-container-id-2 label.sk-toggleable__label {cursor: pointer;display: block;width: 100%;margin-bottom: 0;padding: 0.3em;box-sizing: border-box;text-align: center;}#sk-container-id-2 label.sk-toggleable__label-arrow:before {content: \"▸\";float: left;margin-right: 0.25em;color: #696969;}#sk-container-id-2 label.sk-toggleable__label-arrow:hover:before {color: black;}#sk-container-id-2 div.sk-estimator:hover label.sk-toggleable__label-arrow:before {color: black;}#sk-container-id-2 div.sk-toggleable__content {max-height: 0;max-width: 0;overflow: hidden;text-align: left;background-color: #f0f8ff;}#sk-container-id-2 div.sk-toggleable__content pre {margin: 0.2em;color: black;border-radius: 0.25em;background-color: #f0f8ff;}#sk-container-id-2 input.sk-toggleable__control:checked~div.sk-toggleable__content {max-height: 200px;max-width: 100%;overflow: auto;}#sk-container-id-2 input.sk-toggleable__control:checked~label.sk-toggleable__label-arrow:before {content: \"▾\";}#sk-container-id-2 div.sk-estimator input.sk-toggleable__control:checked~label.sk-toggleable__label {background-color: #d4ebff;}#sk-container-id-2 div.sk-label input.sk-toggleable__control:checked~label.sk-toggleable__label {background-color: #d4ebff;}#sk-container-id-2 input.sk-hidden--visually {border: 0;clip: rect(1px 1px 1px 1px);clip: rect(1px, 1px, 1px, 1px);height: 1px;margin: -1px;overflow: hidden;padding: 0;position: absolute;width: 1px;}#sk-container-id-2 div.sk-estimator {font-family: monospace;background-color: #f0f8ff;border: 1px dotted black;border-radius: 0.25em;box-sizing: border-box;margin-bottom: 0.5em;}#sk-container-id-2 div.sk-estimator:hover {background-color: #d4ebff;}#sk-container-id-2 div.sk-parallel-item::after {content: \"\";width: 100%;border-bottom: 1px solid gray;flex-grow: 1;}#sk-container-id-2 div.sk-label:hover label.sk-toggleable__label {background-color: #d4ebff;}#sk-container-id-2 div.sk-serial::before {content: \"\";position: absolute;border-left: 1px solid gray;box-sizing: border-box;top: 0;bottom: 0;left: 50%;z-index: 0;}#sk-container-id-2 div.sk-serial {display: flex;flex-direction: column;align-items: center;background-color: white;padding-right: 0.2em;padding-left: 0.2em;position: relative;}#sk-container-id-2 div.sk-item {position: relative;z-index: 1;}#sk-container-id-2 div.sk-parallel {display: flex;align-items: stretch;justify-content: center;background-color: white;position: relative;}#sk-container-id-2 div.sk-item::before, #sk-container-id-2 div.sk-parallel-item::before {content: \"\";position: absolute;border-left: 1px solid gray;box-sizing: border-box;top: 0;bottom: 0;left: 50%;z-index: -1;}#sk-container-id-2 div.sk-parallel-item {display: flex;flex-direction: column;z-index: 1;position: relative;background-color: white;}#sk-container-id-2 div.sk-parallel-item:first-child::after {align-self: flex-end;width: 50%;}#sk-container-id-2 div.sk-parallel-item:last-child::after {align-self: flex-start;width: 50%;}#sk-container-id-2 div.sk-parallel-item:only-child::after {width: 0;}#sk-container-id-2 div.sk-dashed-wrapped {border: 1px dashed gray;margin: 0 0.4em 0.5em 0.4em;box-sizing: border-box;padding-bottom: 0.4em;background-color: white;}#sk-container-id-2 div.sk-label label {font-family: monospace;font-weight: bold;display: inline-block;line-height: 1.2em;}#sk-container-id-2 div.sk-label-container {text-align: center;}#sk-container-id-2 div.sk-container {/* jupyter's `normalize.less` sets `[hidden] { display: none; }` but bootstrap.min.css set `[hidden] { display: none !important; }` so we also need the `!important` here to be able to override the default hidden behavior on the sphinx rendered scikit-learn.org. See: https://github.com/scikit-learn/scikit-learn/issues/21755 */display: inline-block !important;position: relative;}#sk-container-id-2 div.sk-text-repr-fallback {display: none;}</style><div id=\"sk-container-id-2\" class=\"sk-top-container\"><div class=\"sk-text-repr-fallback\"><pre>DecisionTreeClassifier(max_depth=9, max_features=10, min_samples_leaf=4)</pre><b>In a Jupyter environment, please rerun this cell to show the HTML representation or trust the notebook. <br />On GitHub, the HTML representation is unable to render, please try loading this page with nbviewer.org.</b></div><div class=\"sk-container\" hidden><div class=\"sk-item\"><div class=\"sk-estimator sk-toggleable\"><input class=\"sk-toggleable__control sk-hidden--visually\" id=\"sk-estimator-id-4\" type=\"checkbox\" checked><label for=\"sk-estimator-id-4\" class=\"sk-toggleable__label sk-toggleable__label-arrow\">DecisionTreeClassifier</label><div class=\"sk-toggleable__content\"><pre>DecisionTreeClassifier(max_depth=9, max_features=10, min_samples_leaf=4)</pre></div></div></div></div></div>"
      ],
      "text/plain": [
       "DecisionTreeClassifier(max_depth=9, max_features=10, min_samples_leaf=4)"
      ]
     },
     "execution_count": 41,
     "metadata": {},
     "output_type": "execute_result"
    }
   ],
   "source": [
    "best_tree.fit(x_train, y_train)"
   ]
  },
  {
   "cell_type": "code",
   "execution_count": 42,
   "id": "d95422e7",
   "metadata": {},
   "outputs": [],
   "source": [
    "best_pred=best_tree.predict(x_test)"
   ]
  },
  {
   "cell_type": "code",
   "execution_count": 43,
   "id": "26816838",
   "metadata": {},
   "outputs": [
    {
     "data": {
      "text/plain": [
       "70.21"
      ]
     },
     "execution_count": 43,
     "metadata": {},
     "output_type": "execute_result"
    }
   ],
   "source": [
    "dt_hyper=round((accuracy_score(y_test, best_pred)),4)*100\n",
    "dt_hyper"
   ]
  },
  {
   "cell_type": "markdown",
   "id": "a30237fc",
   "metadata": {},
   "source": [
    "# Random forest model"
   ]
  },
  {
   "cell_type": "code",
   "execution_count": 44,
   "id": "c6008e11",
   "metadata": {},
   "outputs": [],
   "source": [
    "from sklearn.ensemble import RandomForestClassifier\n",
    "rf=RandomForestClassifier(n_estimators=500,random_state=42)\n",
    "rf.fit(x_train, y_train)\n",
    "rf_pred=lr.predict(x_test)"
   ]
  },
  {
   "cell_type": "code",
   "execution_count": 45,
   "id": "7e338417",
   "metadata": {},
   "outputs": [
    {
     "data": {
      "text/plain": [
       "62.0"
      ]
     },
     "execution_count": 45,
     "metadata": {},
     "output_type": "execute_result"
    }
   ],
   "source": [
    "rf_acc=round((accuracy_score(y_test, rf_pred)),4)*100\n",
    "rf_acc"
   ]
  },
  {
   "cell_type": "markdown",
   "id": "717e205b",
   "metadata": {},
   "source": [
    "# XGBoost model"
   ]
  },
  {
   "cell_type": "code",
   "execution_count": 46,
   "id": "2543193c",
   "metadata": {},
   "outputs": [],
   "source": [
    "from xgboost import XGBClassifier\n",
    "boost=XGBClassifier(random_state=42)"
   ]
  },
  {
   "cell_type": "code",
   "execution_count": 47,
   "id": "63da568f",
   "metadata": {},
   "outputs": [
    {
     "data": {
      "text/html": [
       "<style>#sk-container-id-3 {color: black;background-color: white;}#sk-container-id-3 pre{padding: 0;}#sk-container-id-3 div.sk-toggleable {background-color: white;}#sk-container-id-3 label.sk-toggleable__label {cursor: pointer;display: block;width: 100%;margin-bottom: 0;padding: 0.3em;box-sizing: border-box;text-align: center;}#sk-container-id-3 label.sk-toggleable__label-arrow:before {content: \"▸\";float: left;margin-right: 0.25em;color: #696969;}#sk-container-id-3 label.sk-toggleable__label-arrow:hover:before {color: black;}#sk-container-id-3 div.sk-estimator:hover label.sk-toggleable__label-arrow:before {color: black;}#sk-container-id-3 div.sk-toggleable__content {max-height: 0;max-width: 0;overflow: hidden;text-align: left;background-color: #f0f8ff;}#sk-container-id-3 div.sk-toggleable__content pre {margin: 0.2em;color: black;border-radius: 0.25em;background-color: #f0f8ff;}#sk-container-id-3 input.sk-toggleable__control:checked~div.sk-toggleable__content {max-height: 200px;max-width: 100%;overflow: auto;}#sk-container-id-3 input.sk-toggleable__control:checked~label.sk-toggleable__label-arrow:before {content: \"▾\";}#sk-container-id-3 div.sk-estimator input.sk-toggleable__control:checked~label.sk-toggleable__label {background-color: #d4ebff;}#sk-container-id-3 div.sk-label input.sk-toggleable__control:checked~label.sk-toggleable__label {background-color: #d4ebff;}#sk-container-id-3 input.sk-hidden--visually {border: 0;clip: rect(1px 1px 1px 1px);clip: rect(1px, 1px, 1px, 1px);height: 1px;margin: -1px;overflow: hidden;padding: 0;position: absolute;width: 1px;}#sk-container-id-3 div.sk-estimator {font-family: monospace;background-color: #f0f8ff;border: 1px dotted black;border-radius: 0.25em;box-sizing: border-box;margin-bottom: 0.5em;}#sk-container-id-3 div.sk-estimator:hover {background-color: #d4ebff;}#sk-container-id-3 div.sk-parallel-item::after {content: \"\";width: 100%;border-bottom: 1px solid gray;flex-grow: 1;}#sk-container-id-3 div.sk-label:hover label.sk-toggleable__label {background-color: #d4ebff;}#sk-container-id-3 div.sk-serial::before {content: \"\";position: absolute;border-left: 1px solid gray;box-sizing: border-box;top: 0;bottom: 0;left: 50%;z-index: 0;}#sk-container-id-3 div.sk-serial {display: flex;flex-direction: column;align-items: center;background-color: white;padding-right: 0.2em;padding-left: 0.2em;position: relative;}#sk-container-id-3 div.sk-item {position: relative;z-index: 1;}#sk-container-id-3 div.sk-parallel {display: flex;align-items: stretch;justify-content: center;background-color: white;position: relative;}#sk-container-id-3 div.sk-item::before, #sk-container-id-3 div.sk-parallel-item::before {content: \"\";position: absolute;border-left: 1px solid gray;box-sizing: border-box;top: 0;bottom: 0;left: 50%;z-index: -1;}#sk-container-id-3 div.sk-parallel-item {display: flex;flex-direction: column;z-index: 1;position: relative;background-color: white;}#sk-container-id-3 div.sk-parallel-item:first-child::after {align-self: flex-end;width: 50%;}#sk-container-id-3 div.sk-parallel-item:last-child::after {align-self: flex-start;width: 50%;}#sk-container-id-3 div.sk-parallel-item:only-child::after {width: 0;}#sk-container-id-3 div.sk-dashed-wrapped {border: 1px dashed gray;margin: 0 0.4em 0.5em 0.4em;box-sizing: border-box;padding-bottom: 0.4em;background-color: white;}#sk-container-id-3 div.sk-label label {font-family: monospace;font-weight: bold;display: inline-block;line-height: 1.2em;}#sk-container-id-3 div.sk-label-container {text-align: center;}#sk-container-id-3 div.sk-container {/* jupyter's `normalize.less` sets `[hidden] { display: none; }` but bootstrap.min.css set `[hidden] { display: none !important; }` so we also need the `!important` here to be able to override the default hidden behavior on the sphinx rendered scikit-learn.org. See: https://github.com/scikit-learn/scikit-learn/issues/21755 */display: inline-block !important;position: relative;}#sk-container-id-3 div.sk-text-repr-fallback {display: none;}</style><div id=\"sk-container-id-3\" class=\"sk-top-container\"><div class=\"sk-text-repr-fallback\"><pre>XGBClassifier(base_score=None, booster=None, callbacks=None,\n",
       "              colsample_bylevel=None, colsample_bynode=None,\n",
       "              colsample_bytree=None, early_stopping_rounds=None,\n",
       "              enable_categorical=False, eval_metric=None, feature_types=None,\n",
       "              gamma=None, gpu_id=None, grow_policy=None, importance_type=None,\n",
       "              interaction_constraints=None, learning_rate=None, max_bin=None,\n",
       "              max_cat_threshold=None, max_cat_to_onehot=None,\n",
       "              max_delta_step=None, max_depth=None, max_leaves=None,\n",
       "              min_child_weight=None, missing=nan, monotone_constraints=None,\n",
       "              n_estimators=100, n_jobs=None, num_parallel_tree=None,\n",
       "              objective=&#x27;multi:softprob&#x27;, predictor=None, ...)</pre><b>In a Jupyter environment, please rerun this cell to show the HTML representation or trust the notebook. <br />On GitHub, the HTML representation is unable to render, please try loading this page with nbviewer.org.</b></div><div class=\"sk-container\" hidden><div class=\"sk-item\"><div class=\"sk-estimator sk-toggleable\"><input class=\"sk-toggleable__control sk-hidden--visually\" id=\"sk-estimator-id-5\" type=\"checkbox\" checked><label for=\"sk-estimator-id-5\" class=\"sk-toggleable__label sk-toggleable__label-arrow\">XGBClassifier</label><div class=\"sk-toggleable__content\"><pre>XGBClassifier(base_score=None, booster=None, callbacks=None,\n",
       "              colsample_bylevel=None, colsample_bynode=None,\n",
       "              colsample_bytree=None, early_stopping_rounds=None,\n",
       "              enable_categorical=False, eval_metric=None, feature_types=None,\n",
       "              gamma=None, gpu_id=None, grow_policy=None, importance_type=None,\n",
       "              interaction_constraints=None, learning_rate=None, max_bin=None,\n",
       "              max_cat_threshold=None, max_cat_to_onehot=None,\n",
       "              max_delta_step=None, max_depth=None, max_leaves=None,\n",
       "              min_child_weight=None, missing=nan, monotone_constraints=None,\n",
       "              n_estimators=100, n_jobs=None, num_parallel_tree=None,\n",
       "              objective=&#x27;multi:softprob&#x27;, predictor=None, ...)</pre></div></div></div></div></div>"
      ],
      "text/plain": [
       "XGBClassifier(base_score=None, booster=None, callbacks=None,\n",
       "              colsample_bylevel=None, colsample_bynode=None,\n",
       "              colsample_bytree=None, early_stopping_rounds=None,\n",
       "              enable_categorical=False, eval_metric=None, feature_types=None,\n",
       "              gamma=None, gpu_id=None, grow_policy=None, importance_type=None,\n",
       "              interaction_constraints=None, learning_rate=None, max_bin=None,\n",
       "              max_cat_threshold=None, max_cat_to_onehot=None,\n",
       "              max_delta_step=None, max_depth=None, max_leaves=None,\n",
       "              min_child_weight=None, missing=nan, monotone_constraints=None,\n",
       "              n_estimators=100, n_jobs=None, num_parallel_tree=None,\n",
       "              objective='multi:softprob', predictor=None, ...)"
      ]
     },
     "execution_count": 47,
     "metadata": {},
     "output_type": "execute_result"
    }
   ],
   "source": [
    "boost.fit(x_train, y_train)"
   ]
  },
  {
   "cell_type": "code",
   "execution_count": 48,
   "id": "8d8a5fe6",
   "metadata": {},
   "outputs": [],
   "source": [
    "boost_pred=boost.predict(x_test)"
   ]
  },
  {
   "cell_type": "code",
   "execution_count": 49,
   "id": "d49de6e6",
   "metadata": {},
   "outputs": [
    {
     "data": {
      "text/plain": [
       "73.59"
      ]
     },
     "execution_count": 49,
     "metadata": {},
     "output_type": "execute_result"
    }
   ],
   "source": [
    "xgb_acc=round((accuracy_score(y_test, boost_pred)),4)*100\n",
    "xgb_acc"
   ]
  },
  {
   "cell_type": "code",
   "execution_count": 54,
   "id": "c1a387f7",
   "metadata": {},
   "outputs": [],
   "source": [
    "lst = [['Logistic Regression',lr_acc], ['Decision Tree', dt_acc], ['Decision Tree with hyperparameter tuning', dt_hyper], \n",
    "       ['Random Forest', rf_acc], ['XGBoost',xgb_acc]]\n",
    "\n",
    "Accuracy = pd.DataFrame(lst, columns =['Model', 'Accuracy'], dtype = float)\n",
    "Accuracy['Accuracy']=Accuracy['Accuracy']\n",
    "Accuracy=Accuracy.style.set_properties(**{'text-align': 'left'})"
   ]
  },
  {
   "cell_type": "markdown",
   "id": "64e56838",
   "metadata": {},
   "source": [
    "# 6. Results\n",
    "   Below are the accuracy obtained from different Ml models."
   ]
  },
  {
   "cell_type": "code",
   "execution_count": 55,
   "id": "77b9942d",
   "metadata": {},
   "outputs": [
    {
     "data": {
      "text/html": [
       "<style type=\"text/css\">\n",
       "#T_8701f_row0_col0, #T_8701f_row0_col1, #T_8701f_row1_col0, #T_8701f_row1_col1, #T_8701f_row2_col0, #T_8701f_row2_col1, #T_8701f_row3_col0, #T_8701f_row3_col1, #T_8701f_row4_col0, #T_8701f_row4_col1 {\n",
       "  text-align: left;\n",
       "}\n",
       "</style>\n",
       "<table id=\"T_8701f_\">\n",
       "  <thead>\n",
       "    <tr>\n",
       "      <th class=\"blank level0\" >&nbsp;</th>\n",
       "      <th class=\"col_heading level0 col0\" >Model</th>\n",
       "      <th class=\"col_heading level0 col1\" >Accuracy</th>\n",
       "    </tr>\n",
       "  </thead>\n",
       "  <tbody>\n",
       "    <tr>\n",
       "      <th id=\"T_8701f_level0_row0\" class=\"row_heading level0 row0\" >0</th>\n",
       "      <td id=\"T_8701f_row0_col0\" class=\"data row0 col0\" >Logistic Regression</td>\n",
       "      <td id=\"T_8701f_row0_col1\" class=\"data row0 col1\" >62.000000</td>\n",
       "    </tr>\n",
       "    <tr>\n",
       "      <th id=\"T_8701f_level0_row1\" class=\"row_heading level0 row1\" >1</th>\n",
       "      <td id=\"T_8701f_row1_col0\" class=\"data row1 col0\" >Decision Tree</td>\n",
       "      <td id=\"T_8701f_row1_col1\" class=\"data row1 col1\" >62.000000</td>\n",
       "    </tr>\n",
       "    <tr>\n",
       "      <th id=\"T_8701f_level0_row2\" class=\"row_heading level0 row2\" >2</th>\n",
       "      <td id=\"T_8701f_row2_col0\" class=\"data row2 col0\" >Decision Tree with hyperparameter tuning</td>\n",
       "      <td id=\"T_8701f_row2_col1\" class=\"data row2 col1\" >70.210000</td>\n",
       "    </tr>\n",
       "    <tr>\n",
       "      <th id=\"T_8701f_level0_row3\" class=\"row_heading level0 row3\" >3</th>\n",
       "      <td id=\"T_8701f_row3_col0\" class=\"data row3 col0\" >Random Forest</td>\n",
       "      <td id=\"T_8701f_row3_col1\" class=\"data row3 col1\" >62.000000</td>\n",
       "    </tr>\n",
       "    <tr>\n",
       "      <th id=\"T_8701f_level0_row4\" class=\"row_heading level0 row4\" >4</th>\n",
       "      <td id=\"T_8701f_row4_col0\" class=\"data row4 col0\" >XGBoost</td>\n",
       "      <td id=\"T_8701f_row4_col1\" class=\"data row4 col1\" >73.590000</td>\n",
       "    </tr>\n",
       "  </tbody>\n",
       "</table>\n"
      ],
      "text/plain": [
       "<pandas.io.formats.style.Styler at 0x13d76f3c310>"
      ]
     },
     "execution_count": 55,
     "metadata": {},
     "output_type": "execute_result"
    }
   ],
   "source": [
    "Accuracy"
   ]
  },
  {
   "cell_type": "code",
   "execution_count": null,
   "id": "1de3cccd",
   "metadata": {},
   "outputs": [],
   "source": []
  }
 ],
 "metadata": {
  "kernelspec": {
   "display_name": "Python 3 (ipykernel)",
   "language": "python",
   "name": "python3"
  },
  "language_info": {
   "codemirror_mode": {
    "name": "ipython",
    "version": 3
   },
   "file_extension": ".py",
   "mimetype": "text/x-python",
   "name": "python",
   "nbconvert_exporter": "python",
   "pygments_lexer": "ipython3",
   "version": "3.9.7"
  }
 },
 "nbformat": 4,
 "nbformat_minor": 5
}
